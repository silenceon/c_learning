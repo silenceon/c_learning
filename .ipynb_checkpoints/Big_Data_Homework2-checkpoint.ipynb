{
 "cells": [
  {
   "cell_type": "code",
   "execution_count": 1,
   "metadata": {},
   "outputs": [],
   "source": [
    "import numpy as np\n",
    "import pandas as pd\n"
   ]
  },
  {
   "cell_type": "code",
   "execution_count": 32,
   "metadata": {},
   "outputs": [
    {
     "data": {
      "text/html": [
       "<div>\n",
       "<style scoped>\n",
       "    .dataframe tbody tr th:only-of-type {\n",
       "        vertical-align: middle;\n",
       "    }\n",
       "\n",
       "    .dataframe tbody tr th {\n",
       "        vertical-align: top;\n",
       "    }\n",
       "\n",
       "    .dataframe thead th {\n",
       "        text-align: right;\n",
       "    }\n",
       "</style>\n",
       "<table border=\"1\" class=\"dataframe\">\n",
       "  <thead>\n",
       "    <tr style=\"text-align: right;\">\n",
       "      <th></th>\n",
       "      <th>Month</th>\n",
       "      <th>MEI</th>\n",
       "      <th>CO2</th>\n",
       "      <th>CH4</th>\n",
       "      <th>N2O</th>\n",
       "      <th>CFC-11</th>\n",
       "      <th>CFC-12</th>\n",
       "      <th>TSI</th>\n",
       "      <th>Aerosols</th>\n",
       "      <th>Temp</th>\n",
       "    </tr>\n",
       "    <tr>\n",
       "      <th>Year</th>\n",
       "      <th></th>\n",
       "      <th></th>\n",
       "      <th></th>\n",
       "      <th></th>\n",
       "      <th></th>\n",
       "      <th></th>\n",
       "      <th></th>\n",
       "      <th></th>\n",
       "      <th></th>\n",
       "      <th></th>\n",
       "    </tr>\n",
       "  </thead>\n",
       "  <tbody>\n",
       "    <tr>\n",
       "      <th>1983</th>\n",
       "      <td>5</td>\n",
       "      <td>2.556</td>\n",
       "      <td>345.96</td>\n",
       "      <td>1638.59</td>\n",
       "      <td>303.677</td>\n",
       "      <td>191.324</td>\n",
       "      <td>350.113</td>\n",
       "      <td>1366.1024</td>\n",
       "      <td>0.0863</td>\n",
       "      <td>0.109</td>\n",
       "    </tr>\n",
       "    <tr>\n",
       "      <th>1983</th>\n",
       "      <td>6</td>\n",
       "      <td>2.167</td>\n",
       "      <td>345.52</td>\n",
       "      <td>1633.71</td>\n",
       "      <td>303.746</td>\n",
       "      <td>192.057</td>\n",
       "      <td>351.848</td>\n",
       "      <td>1366.1208</td>\n",
       "      <td>0.0794</td>\n",
       "      <td>0.118</td>\n",
       "    </tr>\n",
       "    <tr>\n",
       "      <th>1983</th>\n",
       "      <td>7</td>\n",
       "      <td>1.741</td>\n",
       "      <td>344.15</td>\n",
       "      <td>1633.22</td>\n",
       "      <td>303.795</td>\n",
       "      <td>192.818</td>\n",
       "      <td>353.725</td>\n",
       "      <td>1366.2850</td>\n",
       "      <td>0.0731</td>\n",
       "      <td>0.137</td>\n",
       "    </tr>\n",
       "    <tr>\n",
       "      <th>1983</th>\n",
       "      <td>8</td>\n",
       "      <td>1.130</td>\n",
       "      <td>342.25</td>\n",
       "      <td>1631.35</td>\n",
       "      <td>303.839</td>\n",
       "      <td>193.602</td>\n",
       "      <td>355.633</td>\n",
       "      <td>1366.4202</td>\n",
       "      <td>0.0673</td>\n",
       "      <td>0.176</td>\n",
       "    </tr>\n",
       "    <tr>\n",
       "      <th>1983</th>\n",
       "      <td>9</td>\n",
       "      <td>0.428</td>\n",
       "      <td>340.17</td>\n",
       "      <td>1648.40</td>\n",
       "      <td>303.901</td>\n",
       "      <td>194.392</td>\n",
       "      <td>357.465</td>\n",
       "      <td>1366.2335</td>\n",
       "      <td>0.0619</td>\n",
       "      <td>0.149</td>\n",
       "    </tr>\n",
       "  </tbody>\n",
       "</table>\n",
       "</div>"
      ],
      "text/plain": [
       "      Month    MEI     CO2      CH4      N2O   CFC-11   CFC-12        TSI  \\\n",
       "Year                                                                        \n",
       "1983      5  2.556  345.96  1638.59  303.677  191.324  350.113  1366.1024   \n",
       "1983      6  2.167  345.52  1633.71  303.746  192.057  351.848  1366.1208   \n",
       "1983      7  1.741  344.15  1633.22  303.795  192.818  353.725  1366.2850   \n",
       "1983      8  1.130  342.25  1631.35  303.839  193.602  355.633  1366.4202   \n",
       "1983      9  0.428  340.17  1648.40  303.901  194.392  357.465  1366.2335   \n",
       "\n",
       "      Aerosols   Temp  \n",
       "Year                   \n",
       "1983    0.0863  0.109  \n",
       "1983    0.0794  0.118  \n",
       "1983    0.0731  0.137  \n",
       "1983    0.0673  0.176  \n",
       "1983    0.0619  0.149  "
      ]
     },
     "execution_count": 32,
     "metadata": {},
     "output_type": "execute_result"
    }
   ],
   "source": [
    "data = pd.read_csv(\"climate_change_1.csv\", index_col=0)\n",
    "train_data = data.loc[:2006,:]\n",
    "test_data = data.loc[2007:,:]\n",
    "data.head()"
   ]
  },
  {
   "cell_type": "code",
   "execution_count": 73,
   "metadata": {
    "scrolled": true
   },
   "outputs": [
    {
     "data": {
      "text/plain": [
       "MEI           0.064205\n",
       "CO2           0.006457\n",
       "CH4           0.000124\n",
       "N2O          -0.016528\n",
       "CFC-11       -0.006630\n",
       "CFC-12        0.003808\n",
       "TSI           0.093141\n",
       "Aerosols     -1.537613\n",
       "constant   -124.594260\n",
       "Name: correlation coefficient, dtype: float64"
      ]
     },
     "execution_count": 73,
     "metadata": {},
     "output_type": "execute_result"
    }
   ],
   "source": [
    "def closed_form_1(x,y):\n",
    "    x[\"constant\"]=1\n",
    "    columns = x.columns\n",
    "    x = np.matrix(x)\n",
    "    y = np.matrix(y).T\n",
    "    coeff = (x.T@x).I@(x.T@y)\n",
    "    result = pd.Series(coeff.A1, index=columns, \n",
    "                       name=\"correlation coefficient\")\n",
    "    return result\n",
    "\n",
    "coeff = closed_form_1(train_data.loc[:,\"MEI\":\"Aerosols\"], train_data.Temp)\n",
    "coeff"
   ]
  },
  {
   "cell_type": "code",
   "execution_count": 92,
   "metadata": {},
   "outputs": [
    {
     "name": "stdout",
     "output_type": "stream",
     "text": [
      "training_data r2 is 0.8665409840580759\n",
      "testing_data r2 is 0.47235818520873785\n"
     ]
    }
   ],
   "source": [
    "def r_square(coeff,x,y):\n",
    "    coeff = np.matrix(coeff)\n",
    "    x[\"constant\"]=1\n",
    "    x = np.matrix(x)\n",
    "    y = y.values\n",
    "    y_hat = (x@coeff.T).A1\n",
    "    \n",
    "    cov = ((y_hat-y_hat.mean())*(y-y.mean())).sum()\n",
    "    var1 = ((y_hat-y_hat.mean())**2).sum()\n",
    "    var2 = ((y-y.mean())**2).sum()\n",
    "    r2 = cov/(var1*var2)**0.5\n",
    "    return r2\n",
    "\n",
    "print(\"training_data r2 is\", r_square(coeff,train_data.loc[:,\"MEI\":\"Aerosols\"],train_data.Temp))\n",
    "print(\"testing_data r2 is\", r_square(coeff,test_data.loc[:,\"MEI\":\"Aerosols\"],test_data.Temp))\n"
   ]
  },
  {
   "cell_type": "code",
   "execution_count": 44,
   "metadata": {},
   "outputs": [
    {
     "data": {
      "text/plain": [
       "Index(['Month', 'MEI', 'CO2', 'CH4', 'N2O', 'CFC-11', 'CFC-12', 'TSI',\n",
       "       'Aerosols', 'Temp'],\n",
       "      dtype='object')"
      ]
     },
     "execution_count": 44,
     "metadata": {},
     "output_type": "execute_result"
    }
   ],
   "source": [
    "def t_value(coeff,x,y):\n",
    "    coeff = np.matrix(coeff)\n",
    "    x[\"constant\"]=1\n",
    "    x = np.matrix(x)\n",
    "    y = np.matrix(y)\n",
    "    \n",
    "    Qx = x.T@x\n",
    "    beta_cov = \n",
    "    "
   ]
  }
 ],
 "metadata": {
  "kernelspec": {
   "display_name": "Python 3",
   "language": "python",
   "name": "python3"
  },
  "language_info": {
   "codemirror_mode": {
    "name": "ipython",
    "version": 3
   },
   "file_extension": ".py",
   "mimetype": "text/x-python",
   "name": "python",
   "nbconvert_exporter": "python",
   "pygments_lexer": "ipython3",
   "version": "3.7.3"
  }
 },
 "nbformat": 4,
 "nbformat_minor": 2
}
