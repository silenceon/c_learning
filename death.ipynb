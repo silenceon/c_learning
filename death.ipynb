{
 "cells": [
  {
   "cell_type": "markdown",
   "metadata": {},
   "source": [
    "### 模型1假设:\n",
    "* 死亡事件独立同分布\n",
    "* 死亡事件为01分布\n",
    "* 人的平均寿命为80岁\n",
    "* 死亡概率超过99.99%即为死亡\n",
    "\n"
   ]
  },
  {
   "cell_type": "code",
   "execution_count": 11,
   "metadata": {},
   "outputs": [],
   "source": [
    "import numpy as np\n",
    "a = np.matrix((0.9999,0.00005,0.00005))\n",
    "b = np.matrix((0.00005,0.00005,0.9999))\n",
    "\n",
    "x = (a.T@a).T@(a.T@b)"
   ]
  },
  {
   "cell_type": "code",
   "execution_count": 12,
   "metadata": {},
   "outputs": [
    {
     "data": {
      "text/plain": [
       "matrix([[4.99850017e-05, 4.99850017e-05, 9.99600065e-01],\n",
       "        [2.49950004e-09, 2.49950004e-09, 4.99850017e-05],\n",
       "        [2.49950004e-09, 2.49950004e-09, 4.99850017e-05]])"
      ]
     },
     "execution_count": 12,
     "metadata": {},
     "output_type": "execute_result"
    }
   ],
   "source": [
    "x"
   ]
  }
 ],
 "metadata": {
  "kernelspec": {
   "display_name": "Python 3",
   "language": "python",
   "name": "python3"
  },
  "language_info": {
   "codemirror_mode": {
    "name": "ipython",
    "version": 3
   },
   "file_extension": ".py",
   "mimetype": "text/x-python",
   "name": "python",
   "nbconvert_exporter": "python",
   "pygments_lexer": "ipython3",
   "version": "3.7.3"
  }
 },
 "nbformat": 4,
 "nbformat_minor": 2
}
